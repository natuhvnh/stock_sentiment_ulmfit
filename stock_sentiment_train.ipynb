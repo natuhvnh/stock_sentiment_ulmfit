{
 "cells": [
  {
   "cell_type": "code",
   "execution_count": 1,
   "metadata": {},
   "outputs": [],
   "source": [
    "%reload_ext autoreload\n",
    "%autoreload 2\n",
    "%matplotlib inline\n",
    "import pandas as pd\n",
    "from fastai import *\n",
    "from fastai.text import *\n",
    "from sklearn.preprocessing import LabelEncoder\n",
    "from sklearn.metrics import f1_score, roc_auc_score\n",
    "import torch\n",
    "import torch.nn as nn\n",
    "import warnings\n",
    "warnings.filterwarnings('ignore')"
   ]
  },
  {
   "cell_type": "code",
   "execution_count": 2,
   "metadata": {},
   "outputs": [],
   "source": [
    "data_path = Config.data_path()\n",
    "lang = 'vi'\n",
    "name = f'{lang}wiki'\n",
    "path = data_path/name\n",
    "path.mkdir(exist_ok=True, parents=True)\n",
    "lm_fns = [f'{lang}_wt', f'{lang}_wt_vocab']\n",
    "bs=64"
   ]
  },
  {
   "cell_type": "code",
   "execution_count": 3,
   "metadata": {},
   "outputs": [
    {
     "data": {
      "text/html": [
       "<div>\n",
       "<style scoped>\n",
       "    .dataframe tbody tr th:only-of-type {\n",
       "        vertical-align: middle;\n",
       "    }\n",
       "\n",
       "    .dataframe tbody tr th {\n",
       "        vertical-align: top;\n",
       "    }\n",
       "\n",
       "    .dataframe thead th {\n",
       "        text-align: right;\n",
       "    }\n",
       "</style>\n",
       "<table border=\"1\" class=\"dataframe\">\n",
       "  <thead>\n",
       "    <tr style=\"text-align: right;\">\n",
       "      <th></th>\n",
       "      <th>text</th>\n",
       "      <th>sentiment_final</th>\n",
       "    </tr>\n",
       "  </thead>\n",
       "  <tbody>\n",
       "    <tr>\n",
       "      <th>0</th>\n",
       "      <td>xin thông báo khi nào hết dịch corona thì lúc ...</td>\n",
       "      <td>1</td>\n",
       "    </tr>\n",
       "    <tr>\n",
       "      <th>1</th>\n",
       "      <td>5 mã trắng cửa bán rồi thì flc tí nữa thôi là ...</td>\n",
       "      <td>1</td>\n",
       "    </tr>\n",
       "    <tr>\n",
       "      <th>2</th>\n",
       "      <td>hihi theo a quyết đến hết mùa dịch chắc cũng p...</td>\n",
       "      <td>1</td>\n",
       "    </tr>\n",
       "    <tr>\n",
       "      <th>3</th>\n",
       "      <td>mai tây (etfs) nó xả hàng ros, mà a qc còn chơ...</td>\n",
       "      <td>0</td>\n",
       "    </tr>\n",
       "    <tr>\n",
       "      <th>4</th>\n",
       "      <td>art, hai, klf lái con chốt, a e vô đỡ thấy thư...</td>\n",
       "      <td>0</td>\n",
       "    </tr>\n",
       "    <tr>\n",
       "      <th>...</th>\n",
       "      <td>...</td>\n",
       "      <td>...</td>\n",
       "    </tr>\n",
       "    <tr>\n",
       "      <th>425</th>\n",
       "      <td>tin vĩ mô:.- bộ tc gia tăng gói hỗ trợ một số ...</td>\n",
       "      <td>1</td>\n",
       "    </tr>\n",
       "    <tr>\n",
       "      <th>426</th>\n",
       "      <td>t2 này khả năng thoát dớp nhưng về lâu dài phe...</td>\n",
       "      <td>0</td>\n",
       "    </tr>\n",
       "    <tr>\n",
       "      <th>427</th>\n",
       "      <td>giảm thêm 700 đáy chắc</td>\n",
       "      <td>0</td>\n",
       "    </tr>\n",
       "    <tr>\n",
       "      <th>428</th>\n",
       "      <td>cuối tuần ngập tràn tin xấu.cá mập, đội lái đã...</td>\n",
       "      <td>0</td>\n",
       "    </tr>\n",
       "    <tr>\n",
       "      <th>429</th>\n",
       "      <td>vni lên là lên !!!!</td>\n",
       "      <td>1</td>\n",
       "    </tr>\n",
       "  </tbody>\n",
       "</table>\n",
       "<p>430 rows × 2 columns</p>\n",
       "</div>"
      ],
      "text/plain": [
       "                                                  text  sentiment_final\n",
       "0    xin thông báo khi nào hết dịch corona thì lúc ...                1\n",
       "1    5 mã trắng cửa bán rồi thì flc tí nữa thôi là ...                1\n",
       "2    hihi theo a quyết đến hết mùa dịch chắc cũng p...                1\n",
       "3    mai tây (etfs) nó xả hàng ros, mà a qc còn chơ...                0\n",
       "4    art, hai, klf lái con chốt, a e vô đỡ thấy thư...                0\n",
       "..                                                 ...              ...\n",
       "425  tin vĩ mô:.- bộ tc gia tăng gói hỗ trợ một số ...                1\n",
       "426  t2 này khả năng thoát dớp nhưng về lâu dài phe...                0\n",
       "427                             giảm thêm 700 đáy chắc                0\n",
       "428  cuối tuần ngập tràn tin xấu.cá mập, đội lái đã...                0\n",
       "429                                vni lên là lên !!!!                1\n",
       "\n",
       "[430 rows x 2 columns]"
      ]
     },
     "execution_count": 3,
     "metadata": {},
     "output_type": "execute_result"
    }
   ],
   "source": [
    "train_df = pd.read_csv('stock_data/data_clean.csv', sep='#')\n",
    "train_df.loc[pd.isna(train_df.text),'text']='NA'\n",
    "train_df['text'] = train_df['text'].str.lower()\n",
    "label_encoder = LabelEncoder() \n",
    "train_df['sentiment_final']= label_encoder.fit_transform(train_df['sentiment_final']) \n",
    "train_df"
   ]
  },
  {
   "cell_type": "code",
   "execution_count": 4,
   "metadata": {},
   "outputs": [
    {
     "data": {
      "text/html": [
       "<div>\n",
       "<style scoped>\n",
       "    .dataframe tbody tr th:only-of-type {\n",
       "        vertical-align: middle;\n",
       "    }\n",
       "\n",
       "    .dataframe tbody tr th {\n",
       "        vertical-align: top;\n",
       "    }\n",
       "\n",
       "    .dataframe thead th {\n",
       "        text-align: right;\n",
       "    }\n",
       "</style>\n",
       "<table border=\"1\" class=\"dataframe\">\n",
       "  <thead>\n",
       "    <tr style=\"text-align: right;\">\n",
       "      <th></th>\n",
       "      <th>thread_url</th>\n",
       "      <th>thread_name</th>\n",
       "      <th>title?</th>\n",
       "      <th>content</th>\n",
       "      <th>created_date</th>\n",
       "      <th>sentiment</th>\n",
       "      <th>keywords</th>\n",
       "    </tr>\n",
       "  </thead>\n",
       "  <tbody>\n",
       "    <tr>\n",
       "      <th>0</th>\n",
       "      <td>http://f319.com/threads/xin-chuc-mung-co-dong-...</td>\n",
       "      <td>Xin chúc mừng cổ đông của a QC: GAB, ART, KLF,...</td>\n",
       "      <td>Y</td>\n",
       "      <td>xin chúc mừng cổ đông của a qc: gab, art, klf,...</td>\n",
       "      <td>18/03/2020</td>\n",
       "      <td>P</td>\n",
       "      <td>chúc mừng</td>\n",
       "    </tr>\n",
       "    <tr>\n",
       "      <th>1</th>\n",
       "      <td>http://f319.com/threads/xin-chuc-mung-co-dong-...</td>\n",
       "      <td>Xin chúc mừng cổ đông của a QC: GAB, ART, KLF,...</td>\n",
       "      <td>N</td>\n",
       "      <td>chúc mừng ace nào theo đuôi mình và đã có hàng...</td>\n",
       "      <td>18/03/2020</td>\n",
       "      <td>P</td>\n",
       "      <td>chúc mừng, hưởng thành quả</td>\n",
       "    </tr>\n",
       "    <tr>\n",
       "      <th>2</th>\n",
       "      <td>http://f319.com/threads/xin-chuc-mung-co-dong-...</td>\n",
       "      <td>Xin chúc mừng cổ đông của a QC: GAB, ART, KLF,...</td>\n",
       "      <td>N</td>\n",
       "      <td>có lãi lo chốt đi, ở đó múa bên băng 3 nốt nhạ...</td>\n",
       "      <td>18/03/2020</td>\n",
       "      <td>NaN</td>\n",
       "      <td>NaN</td>\n",
       "    </tr>\n",
       "    <tr>\n",
       "      <th>3</th>\n",
       "      <td>http://f319.com/threads/xin-chuc-mung-co-dong-...</td>\n",
       "      <td>Xin chúc mừng cổ đông của a QC: GAB, ART, KLF,...</td>\n",
       "      <td>N</td>\n",
       "      <td>anh quýt kotex-index thật vi diệu. tím thủy ch...</td>\n",
       "      <td>18/03/2020</td>\n",
       "      <td>NaN</td>\n",
       "      <td>NaN</td>\n",
       "    </tr>\n",
       "    <tr>\n",
       "      <th>4</th>\n",
       "      <td>http://f319.com/threads/xin-chuc-mung-co-dong-...</td>\n",
       "      <td>Xin chúc mừng cổ đông của a QC: GAB, ART, KLF,...</td>\n",
       "      <td>N</td>\n",
       "      <td>ros trần phát tây lông bán như phá mả ..em khô...</td>\n",
       "      <td>18/03/2020</td>\n",
       "      <td>NaN</td>\n",
       "      <td>NaN</td>\n",
       "    </tr>\n",
       "    <tr>\n",
       "      <th>...</th>\n",
       "      <td>...</td>\n",
       "      <td>...</td>\n",
       "      <td>...</td>\n",
       "      <td>...</td>\n",
       "      <td>...</td>\n",
       "      <td>...</td>\n",
       "      <td>...</td>\n",
       "    </tr>\n",
       "    <tr>\n",
       "      <th>27213</th>\n",
       "      <td>http://f319.com/threads/sang-nay-khong-ghi-nha...</td>\n",
       "      <td>Sáng nay không ghi nhận thêm ca nhiễm nCoV</td>\n",
       "      <td>Y</td>\n",
       "      <td>sáng nay không ghi nhận thêm ca nhiễm ncov</td>\n",
       "      <td>5/4/2020</td>\n",
       "      <td>NaN</td>\n",
       "      <td>NaN</td>\n",
       "    </tr>\n",
       "    <tr>\n",
       "      <th>27214</th>\n",
       "      <td>http://f319.com/threads/sang-nay-khong-ghi-nha...</td>\n",
       "      <td>Sáng nay không ghi nhận thêm ca nhiễm nCoV</td>\n",
       "      <td>N</td>\n",
       "      <td>chủ nhật, 5/4/2020, 06:17 (gmt+7)..sáng nay kh...</td>\n",
       "      <td>5/4/2020</td>\n",
       "      <td>NaN</td>\n",
       "      <td>NaN</td>\n",
       "    </tr>\n",
       "    <tr>\n",
       "      <th>27215</th>\n",
       "      <td>http://f319.com/threads/sang-nay-khong-ghi-nha...</td>\n",
       "      <td>Sáng nay không ghi nhận thêm ca nhiễm nCoV</td>\n",
       "      <td>N</td>\n",
       "      <td>tuyệt vời việt nam</td>\n",
       "      <td>5/4/2020</td>\n",
       "      <td>NaN</td>\n",
       "      <td>NaN</td>\n",
       "    </tr>\n",
       "    <tr>\n",
       "      <th>27216</th>\n",
       "      <td>http://f319.com/threads/sang-nay-khong-ghi-nha...</td>\n",
       "      <td>Sáng nay không ghi nhận thêm ca nhiễm nCoV</td>\n",
       "      <td>N</td>\n",
       "      <td>múc</td>\n",
       "      <td>5/4/2020</td>\n",
       "      <td>NaN</td>\n",
       "      <td>NaN</td>\n",
       "    </tr>\n",
       "    <tr>\n",
       "      <th>27217</th>\n",
       "      <td>http://f319.com/threads/sang-nay-khong-ghi-nha...</td>\n",
       "      <td>Sáng nay không ghi nhận thêm ca nhiễm nCoV</td>\n",
       "      <td>N</td>\n",
       "      <td>6h chiều chứ</td>\n",
       "      <td>5/4/2020</td>\n",
       "      <td>NaN</td>\n",
       "      <td>NaN</td>\n",
       "    </tr>\n",
       "  </tbody>\n",
       "</table>\n",
       "<p>27218 rows × 7 columns</p>\n",
       "</div>"
      ],
      "text/plain": [
       "                                              thread_url  \\\n",
       "0      http://f319.com/threads/xin-chuc-mung-co-dong-...   \n",
       "1      http://f319.com/threads/xin-chuc-mung-co-dong-...   \n",
       "2      http://f319.com/threads/xin-chuc-mung-co-dong-...   \n",
       "3      http://f319.com/threads/xin-chuc-mung-co-dong-...   \n",
       "4      http://f319.com/threads/xin-chuc-mung-co-dong-...   \n",
       "...                                                  ...   \n",
       "27213  http://f319.com/threads/sang-nay-khong-ghi-nha...   \n",
       "27214  http://f319.com/threads/sang-nay-khong-ghi-nha...   \n",
       "27215  http://f319.com/threads/sang-nay-khong-ghi-nha...   \n",
       "27216  http://f319.com/threads/sang-nay-khong-ghi-nha...   \n",
       "27217  http://f319.com/threads/sang-nay-khong-ghi-nha...   \n",
       "\n",
       "                                             thread_name title?  \\\n",
       "0      Xin chúc mừng cổ đông của a QC: GAB, ART, KLF,...      Y   \n",
       "1      Xin chúc mừng cổ đông của a QC: GAB, ART, KLF,...      N   \n",
       "2      Xin chúc mừng cổ đông của a QC: GAB, ART, KLF,...      N   \n",
       "3      Xin chúc mừng cổ đông của a QC: GAB, ART, KLF,...      N   \n",
       "4      Xin chúc mừng cổ đông của a QC: GAB, ART, KLF,...      N   \n",
       "...                                                  ...    ...   \n",
       "27213         Sáng nay không ghi nhận thêm ca nhiễm nCoV      Y   \n",
       "27214         Sáng nay không ghi nhận thêm ca nhiễm nCoV      N   \n",
       "27215         Sáng nay không ghi nhận thêm ca nhiễm nCoV      N   \n",
       "27216         Sáng nay không ghi nhận thêm ca nhiễm nCoV      N   \n",
       "27217         Sáng nay không ghi nhận thêm ca nhiễm nCoV      N   \n",
       "\n",
       "                                                 content created_date  \\\n",
       "0      xin chúc mừng cổ đông của a qc: gab, art, klf,...   18/03/2020   \n",
       "1      chúc mừng ace nào theo đuôi mình và đã có hàng...   18/03/2020   \n",
       "2      có lãi lo chốt đi, ở đó múa bên băng 3 nốt nhạ...   18/03/2020   \n",
       "3      anh quýt kotex-index thật vi diệu. tím thủy ch...   18/03/2020   \n",
       "4      ros trần phát tây lông bán như phá mả ..em khô...   18/03/2020   \n",
       "...                                                  ...          ...   \n",
       "27213         sáng nay không ghi nhận thêm ca nhiễm ncov     5/4/2020   \n",
       "27214  chủ nhật, 5/4/2020, 06:17 (gmt+7)..sáng nay kh...     5/4/2020   \n",
       "27215                                 tuyệt vời việt nam     5/4/2020   \n",
       "27216                                                múc     5/4/2020   \n",
       "27217                                       6h chiều chứ     5/4/2020   \n",
       "\n",
       "      sentiment                    keywords  \n",
       "0             P                   chúc mừng  \n",
       "1             P  chúc mừng, hưởng thành quả  \n",
       "2           NaN                         NaN  \n",
       "3           NaN                         NaN  \n",
       "4           NaN                         NaN  \n",
       "...         ...                         ...  \n",
       "27213       NaN                         NaN  \n",
       "27214       NaN                         NaN  \n",
       "27215       NaN                         NaN  \n",
       "27216       NaN                         NaN  \n",
       "27217       NaN                         NaN  \n",
       "\n",
       "[27218 rows x 7 columns]"
      ]
     },
     "execution_count": 4,
     "metadata": {},
     "output_type": "execute_result"
    }
   ],
   "source": [
    "data = pd.read_csv('stock_data/data.csv', sep=',')\n",
    "data.loc[pd.isna(data.content),'content']='NA'\n",
    "data['content'] = data['content'].str.lower()\n",
    "data"
   ]
  },
  {
   "cell_type": "code",
   "execution_count": 5,
   "metadata": {},
   "outputs": [
    {
     "data": {
      "text/html": [],
      "text/plain": [
       "<IPython.core.display.HTML object>"
      ]
     },
     "metadata": {},
     "output_type": "display_data"
    },
    {
     "data": {
      "text/html": [],
      "text/plain": [
       "<IPython.core.display.HTML object>"
      ]
     },
     "metadata": {},
     "output_type": "display_data"
    }
   ],
   "source": [
    "data_lm = (TextList.from_df(data, path, cols='content')\n",
    "    .split_by_rand_pct(0.1, seed=42)\n",
    "    .label_for_lm()           \n",
    "    .databunch(bs=bs, num_workers=4))"
   ]
  },
  {
   "cell_type": "code",
   "execution_count": 6,
   "metadata": {},
   "outputs": [],
   "source": [
    "learn_lm = language_model_learner(data_lm, AWD_LSTM, pretrained_fnames=lm_fns, drop_mult=1.0)"
   ]
  },
  {
   "cell_type": "code",
   "execution_count": 7,
   "metadata": {},
   "outputs": [],
   "source": [
    "lr = 1e-3\n",
    "lr *= bs/48"
   ]
  },
  {
   "cell_type": "code",
   "execution_count": 8,
   "metadata": {},
   "outputs": [
    {
     "data": {
      "text/html": [
       "<table border=\"1\" class=\"dataframe\">\n",
       "  <thead>\n",
       "    <tr style=\"text-align: left;\">\n",
       "      <th>epoch</th>\n",
       "      <th>train_loss</th>\n",
       "      <th>valid_loss</th>\n",
       "      <th>accuracy</th>\n",
       "      <th>time</th>\n",
       "    </tr>\n",
       "  </thead>\n",
       "  <tbody>\n",
       "    <tr>\n",
       "      <td>0</td>\n",
       "      <td>4.655009</td>\n",
       "      <td>4.309606</td>\n",
       "      <td>0.267420</td>\n",
       "      <td>00:35</td>\n",
       "    </tr>\n",
       "    <tr>\n",
       "      <td>1</td>\n",
       "      <td>4.475599</td>\n",
       "      <td>4.196741</td>\n",
       "      <td>0.276859</td>\n",
       "      <td>00:36</td>\n",
       "    </tr>\n",
       "  </tbody>\n",
       "</table>"
      ],
      "text/plain": [
       "<IPython.core.display.HTML object>"
      ]
     },
     "metadata": {},
     "output_type": "display_data"
    }
   ],
   "source": [
    "learn_lm.fit_one_cycle(2, lr*10, moms=(0.8,0.7))"
   ]
  },
  {
   "cell_type": "code",
   "execution_count": 9,
   "metadata": {},
   "outputs": [
    {
     "data": {
      "text/html": [
       "<table border=\"1\" class=\"dataframe\">\n",
       "  <thead>\n",
       "    <tr style=\"text-align: left;\">\n",
       "      <th>epoch</th>\n",
       "      <th>train_loss</th>\n",
       "      <th>valid_loss</th>\n",
       "      <th>accuracy</th>\n",
       "      <th>time</th>\n",
       "    </tr>\n",
       "  </thead>\n",
       "  <tbody>\n",
       "    <tr>\n",
       "      <td>0</td>\n",
       "      <td>4.347687</td>\n",
       "      <td>4.089919</td>\n",
       "      <td>0.285774</td>\n",
       "      <td>00:46</td>\n",
       "    </tr>\n",
       "    <tr>\n",
       "      <td>1</td>\n",
       "      <td>4.194607</td>\n",
       "      <td>3.953220</td>\n",
       "      <td>0.300888</td>\n",
       "      <td>00:46</td>\n",
       "    </tr>\n",
       "    <tr>\n",
       "      <td>2</td>\n",
       "      <td>4.067661</td>\n",
       "      <td>3.841664</td>\n",
       "      <td>0.314614</td>\n",
       "      <td>00:47</td>\n",
       "    </tr>\n",
       "    <tr>\n",
       "      <td>3</td>\n",
       "      <td>3.942392</td>\n",
       "      <td>3.761452</td>\n",
       "      <td>0.324189</td>\n",
       "      <td>00:46</td>\n",
       "    </tr>\n",
       "    <tr>\n",
       "      <td>4</td>\n",
       "      <td>3.845918</td>\n",
       "      <td>3.701095</td>\n",
       "      <td>0.331974</td>\n",
       "      <td>00:47</td>\n",
       "    </tr>\n",
       "    <tr>\n",
       "      <td>5</td>\n",
       "      <td>3.755334</td>\n",
       "      <td>3.656090</td>\n",
       "      <td>0.337956</td>\n",
       "      <td>00:47</td>\n",
       "    </tr>\n",
       "    <tr>\n",
       "      <td>6</td>\n",
       "      <td>3.761018</td>\n",
       "      <td>3.627942</td>\n",
       "      <td>0.342092</td>\n",
       "      <td>00:47</td>\n",
       "    </tr>\n",
       "    <tr>\n",
       "      <td>7</td>\n",
       "      <td>3.712162</td>\n",
       "      <td>3.608828</td>\n",
       "      <td>0.344456</td>\n",
       "      <td>00:46</td>\n",
       "    </tr>\n",
       "    <tr>\n",
       "      <td>8</td>\n",
       "      <td>3.662963</td>\n",
       "      <td>3.601228</td>\n",
       "      <td>0.345704</td>\n",
       "      <td>00:45</td>\n",
       "    </tr>\n",
       "    <tr>\n",
       "      <td>9</td>\n",
       "      <td>3.636343</td>\n",
       "      <td>3.601158</td>\n",
       "      <td>0.345846</td>\n",
       "      <td>00:46</td>\n",
       "    </tr>\n",
       "  </tbody>\n",
       "</table>"
      ],
      "text/plain": [
       "<IPython.core.display.HTML object>"
      ]
     },
     "metadata": {},
     "output_type": "display_data"
    }
   ],
   "source": [
    "learn_lm.unfreeze()\n",
    "learn_lm.fit_one_cycle(10, lr, moms=(0.8,0.7))"
   ]
  },
  {
   "cell_type": "code",
   "execution_count": 10,
   "metadata": {},
   "outputs": [
    {
     "data": {
      "text/plain": [
       "SequentialRNN(\n",
       "  (0): AWD_LSTM(\n",
       "    (encoder): Embedding(11832, 400, padding_idx=1)\n",
       "    (encoder_dp): EmbeddingDropout(\n",
       "      (emb): Embedding(11832, 400, padding_idx=1)\n",
       "    )\n",
       "    (rnns): ModuleList(\n",
       "      (0): WeightDropout(\n",
       "        (module): LSTM(400, 1152, batch_first=True)\n",
       "      )\n",
       "      (1): WeightDropout(\n",
       "        (module): LSTM(1152, 1152, batch_first=True)\n",
       "      )\n",
       "      (2): WeightDropout(\n",
       "        (module): LSTM(1152, 400, batch_first=True)\n",
       "      )\n",
       "    )\n",
       "    (input_dp): RNNDropout()\n",
       "    (hidden_dps): ModuleList(\n",
       "      (0): RNNDropout()\n",
       "      (1): RNNDropout()\n",
       "      (2): RNNDropout()\n",
       "    )\n",
       "  )\n",
       "  (1): LinearDecoder(\n",
       "    (decoder): Linear(in_features=400, out_features=11832, bias=True)\n",
       "    (output_dp): RNNDropout()\n",
       "  )\n",
       ")"
      ]
     },
     "execution_count": 10,
     "metadata": {},
     "output_type": "execute_result"
    }
   ],
   "source": [
    "learn_lm.model"
   ]
  },
  {
   "cell_type": "code",
   "execution_count": 11,
   "metadata": {},
   "outputs": [],
   "source": [
    "learn_lm.save('stock_sentiment_finetuned')\n",
    "learn_lm.save_encoder('stock_sentiment_finetuned_enc')"
   ]
  },
  {
   "cell_type": "code",
   "execution_count": 12,
   "metadata": {},
   "outputs": [
    {
     "data": {
      "text/html": [],
      "text/plain": [
       "<IPython.core.display.HTML object>"
      ]
     },
     "metadata": {},
     "output_type": "display_data"
    },
    {
     "data": {
      "text/html": [],
      "text/plain": [
       "<IPython.core.display.HTML object>"
      ]
     },
     "metadata": {},
     "output_type": "display_data"
    },
    {
     "data": {
      "text/plain": [
       "TextClasDataBunch;\n",
       "\n",
       "Train: LabelList (387 items)\n",
       "x: TextList\n",
       "xxbos xin thông báo khi nào hết dịch corona thì lúc đó cổ phiếu họ hàng của a quyết mới hết hot . tin chính thức từ xxunk,xxbos 5 mã trắng cửa bán rồi thì flc tí nữa thôi là lại tím lịm,xxbos hihi theo a quyết đến hết mùa dịch chắc cũng phải x2 or x3 tài khoản các bác nhỉ . tất tay hết theo a quyết chiến thôi .,xxbos mai tây ( etfs ) nó xả hàng ros , mà a qc còn chơi đẹp kéo lên cho nó xả thì các bác biết ntn rồi đấy,xxbos art , hai , klf lái con chốt , a e vô đỡ thấy thương . dự chiều 2 pm còn thảm sát nữa\n",
       "y: CategoryList\n",
       "1,1,1,0,0\n",
       "Path: /home/tuna/.fastai/data/viwiki;\n",
       "\n",
       "Valid: LabelList (43 items)\n",
       "x: TextList\n",
       "xxbos đồng ý xxunk dám xài mg,xxbos các nhóm ngành cần quan tâm theo thứ xxunk trụ vnm , vic , bvh , vcb , dhg nỗ lực phục hồi 8 phiên xxunk + hàng tiêu dùng thiết yếu msn tích lũy tạo nền được 9 tuần .bán lẻ + xxunk mwg , pnj , hcm nỗ lực phục hồi 2 phiên xxunk xxunk nỗ lực phục hồi 3 phiên xxunk , vật liệu xd ctd , xxunk , ptb , hpg xxunk , xxunk . nhiên liệu plx , gas nỗ lực phục hồi tích lũy 15 xxunk tích lũy sớm plx , gas , msn , vcs .hiện tại đang phải đánh theo ta thôi , fa thì bctc năm nay ra mới soi xét được . có 1 điều anh em nhớ là năm 2008 p / e toàn thị trường lên tới 28 trước khi lao dốc , năm nay chỉ mới ở 18 thôi mà hiện tại thì đã về quanh 10 rồi cộng với hệ thống tài chính ngân hàng bây giờ mạnh khỏe hơn hồi đó nhiều nên đừng kỳ vọng quả giảm 80 % 90 % giá trị đối với cổ tốt như hồi đó .,xxbos có khi mai lại ce,xxbos thị trường hồi phục xxunk bác còn tranh cãi hàng này làm gì,xxbos cktg xanh - vni xanh 6 / 4\n",
       "y: CategoryList\n",
       "1,1,1,1,1\n",
       "Path: /home/tuna/.fastai/data/viwiki;\n",
       "\n",
       "Test: None"
      ]
     },
     "execution_count": 12,
     "metadata": {},
     "output_type": "execute_result"
    }
   ],
   "source": [
    "data_clas = (TextList.from_df(train_df, path, vocab=data_lm.vocab, cols='text')\n",
    "    .split_by_rand_pct(0.1, seed=42)\n",
    "    .label_from_df(cols='sentiment_final')\n",
    "    .databunch(bs=bs, num_workers=1))\n",
    "data_clas"
   ]
  },
  {
   "cell_type": "code",
   "execution_count": 13,
   "metadata": {},
   "outputs": [],
   "source": [
    "@np_func\n",
    "def f1(inp,targ): return f1_score(targ, np.argmax(inp, axis=-1))\n",
    "#\n",
    "def auroc_score(input, target):\n",
    "    input, target = input.cpu().numpy()[:,1], target.cpu().numpy()\n",
    "    return roc_auc_score(target, input)\n",
    "\n",
    "class AUROC(Callback):\n",
    "    _order = -20 #Needs to run before the recorder\n",
    "\n",
    "    def __init__(self, learn, **kwargs): self.learn = learn\n",
    "    def on_train_begin(self, **kwargs): self.learn.recorder.add_metric_names(['AUROC'])\n",
    "    def on_epoch_begin(self, **kwargs): self.output, self.target = [], []\n",
    "    \n",
    "    def on_batch_end(self, last_target, last_output, train, **kwargs):\n",
    "        if not train:\n",
    "            self.output.append(last_output)\n",
    "            self.target.append(last_target)\n",
    "                \n",
    "#     def on_epoch_end(self, last_target, last_output, **kwargs):\n",
    "#         if len(self.output) > 0:\n",
    "#             output = torch.cat(self.output)\n",
    "#             target = torch.cat(self.target)\n",
    "#             preds = F.softmax(output, dim=1)\n",
    "#             metric = auroc_score(preds, target)\n",
    "#             self.learn.recorder.add_metrics([metric])\n",
    "            \n",
    "    def on_epoch_end(self, last_metrics, **kwargs):\n",
    "        if len(self.output) > 0:\n",
    "            output = torch.cat(self.output)\n",
    "            target = torch.cat(self.target)\n",
    "            preds = F.softmax(output, dim=1)\n",
    "            metric = auroc_score(preds, target)\n",
    "            return add_metrics(last_metrics, [metric])"
   ]
  },
  {
   "cell_type": "code",
   "execution_count": 14,
   "metadata": {},
   "outputs": [],
   "source": [
    "learn_c = text_classifier_learner(data_clas, AWD_LSTM, drop_mult=0.5, metrics=[accuracy,f1], callback_fns=AUROC).to_fp16()\n",
    "learn_c.load_encoder('stock_sentiment_finetuned_enc')\n",
    "learn_c.freeze()"
   ]
  },
  {
   "cell_type": "code",
   "execution_count": 15,
   "metadata": {},
   "outputs": [],
   "source": [
    "lr=2e-2\n",
    "lr *= bs/48"
   ]
  },
  {
   "cell_type": "code",
   "execution_count": 16,
   "metadata": {},
   "outputs": [
    {
     "data": {
      "text/html": [
       "<table border=\"1\" class=\"dataframe\">\n",
       "  <thead>\n",
       "    <tr style=\"text-align: left;\">\n",
       "      <th>epoch</th>\n",
       "      <th>train_loss</th>\n",
       "      <th>valid_loss</th>\n",
       "      <th>accuracy</th>\n",
       "      <th>f1</th>\n",
       "      <th>AUROC</th>\n",
       "      <th>time</th>\n",
       "    </tr>\n",
       "  </thead>\n",
       "  <tbody>\n",
       "    <tr>\n",
       "      <td>0</td>\n",
       "      <td>0.697207</td>\n",
       "      <td>0.602508</td>\n",
       "      <td>0.627907</td>\n",
       "      <td>0.771429</td>\n",
       "      <td>0.851852</td>\n",
       "      <td>00:00</td>\n",
       "    </tr>\n",
       "    <tr>\n",
       "      <td>1</td>\n",
       "      <td>0.576193</td>\n",
       "      <td>0.598596</td>\n",
       "      <td>0.627907</td>\n",
       "      <td>0.771429</td>\n",
       "      <td>0.905093</td>\n",
       "      <td>00:00</td>\n",
       "    </tr>\n",
       "  </tbody>\n",
       "</table>"
      ],
      "text/plain": [
       "<IPython.core.display.HTML object>"
      ]
     },
     "metadata": {},
     "output_type": "display_data"
    }
   ],
   "source": [
    "learn_c.fit_one_cycle(2, lr, moms=(0.8,0.7))"
   ]
  },
  {
   "cell_type": "code",
   "execution_count": 17,
   "metadata": {},
   "outputs": [
    {
     "data": {
      "text/html": [
       "<table border=\"1\" class=\"dataframe\">\n",
       "  <thead>\n",
       "    <tr style=\"text-align: left;\">\n",
       "      <th>epoch</th>\n",
       "      <th>train_loss</th>\n",
       "      <th>valid_loss</th>\n",
       "      <th>accuracy</th>\n",
       "      <th>f1</th>\n",
       "      <th>AUROC</th>\n",
       "      <th>time</th>\n",
       "    </tr>\n",
       "  </thead>\n",
       "  <tbody>\n",
       "    <tr>\n",
       "      <td>0</td>\n",
       "      <td>0.410394</td>\n",
       "      <td>0.696452</td>\n",
       "      <td>0.627907</td>\n",
       "      <td>0.771429</td>\n",
       "      <td>0.901620</td>\n",
       "      <td>00:00</td>\n",
       "    </tr>\n",
       "    <tr>\n",
       "      <td>1</td>\n",
       "      <td>0.353041</td>\n",
       "      <td>0.658944</td>\n",
       "      <td>0.651163</td>\n",
       "      <td>0.782609</td>\n",
       "      <td>0.842593</td>\n",
       "      <td>00:00</td>\n",
       "    </tr>\n",
       "  </tbody>\n",
       "</table>"
      ],
      "text/plain": [
       "<IPython.core.display.HTML object>"
      ]
     },
     "metadata": {},
     "output_type": "display_data"
    }
   ],
   "source": [
    "learn_c.fit_one_cycle(2, lr, moms=(0.8,0.7))"
   ]
  },
  {
   "cell_type": "code",
   "execution_count": 18,
   "metadata": {},
   "outputs": [
    {
     "data": {
      "text/html": [
       "<table border=\"1\" class=\"dataframe\">\n",
       "  <thead>\n",
       "    <tr style=\"text-align: left;\">\n",
       "      <th>epoch</th>\n",
       "      <th>train_loss</th>\n",
       "      <th>valid_loss</th>\n",
       "      <th>accuracy</th>\n",
       "      <th>f1</th>\n",
       "      <th>AUROC</th>\n",
       "      <th>time</th>\n",
       "    </tr>\n",
       "  </thead>\n",
       "  <tbody>\n",
       "    <tr>\n",
       "      <td>0</td>\n",
       "      <td>0.302256</td>\n",
       "      <td>0.539344</td>\n",
       "      <td>0.720930</td>\n",
       "      <td>0.812500</td>\n",
       "      <td>0.849537</td>\n",
       "      <td>00:00</td>\n",
       "    </tr>\n",
       "    <tr>\n",
       "      <td>1</td>\n",
       "      <td>0.286648</td>\n",
       "      <td>0.585698</td>\n",
       "      <td>0.697674</td>\n",
       "      <td>0.800000</td>\n",
       "      <td>0.872685</td>\n",
       "      <td>00:00</td>\n",
       "    </tr>\n",
       "  </tbody>\n",
       "</table>"
      ],
      "text/plain": [
       "<IPython.core.display.HTML object>"
      ]
     },
     "metadata": {},
     "output_type": "display_data"
    }
   ],
   "source": [
    "learn_c.freeze_to(-2)\n",
    "learn_c.fit_one_cycle(2, slice(lr/(2.6**4),lr), moms=(0.8,0.7))"
   ]
  },
  {
   "cell_type": "code",
   "execution_count": 19,
   "metadata": {},
   "outputs": [
    {
     "data": {
      "text/html": [
       "<table border=\"1\" class=\"dataframe\">\n",
       "  <thead>\n",
       "    <tr style=\"text-align: left;\">\n",
       "      <th>epoch</th>\n",
       "      <th>train_loss</th>\n",
       "      <th>valid_loss</th>\n",
       "      <th>accuracy</th>\n",
       "      <th>f1</th>\n",
       "      <th>AUROC</th>\n",
       "      <th>time</th>\n",
       "    </tr>\n",
       "  </thead>\n",
       "  <tbody>\n",
       "    <tr>\n",
       "      <td>0</td>\n",
       "      <td>0.228009</td>\n",
       "      <td>0.586240</td>\n",
       "      <td>0.720930</td>\n",
       "      <td>0.793103</td>\n",
       "      <td>0.821759</td>\n",
       "      <td>00:00</td>\n",
       "    </tr>\n",
       "    <tr>\n",
       "      <td>1</td>\n",
       "      <td>0.197966</td>\n",
       "      <td>0.663282</td>\n",
       "      <td>0.744186</td>\n",
       "      <td>0.819672</td>\n",
       "      <td>0.847222</td>\n",
       "      <td>00:00</td>\n",
       "    </tr>\n",
       "  </tbody>\n",
       "</table>"
      ],
      "text/plain": [
       "<IPython.core.display.HTML object>"
      ]
     },
     "metadata": {},
     "output_type": "display_data"
    }
   ],
   "source": [
    "learn_c.freeze_to(-3)\n",
    "learn_c.fit_one_cycle(2, slice(lr/2/(2.6**4),lr/2), moms=(0.8,0.7))"
   ]
  },
  {
   "cell_type": "code",
   "execution_count": 20,
   "metadata": {},
   "outputs": [
    {
     "data": {
      "text/html": [
       "<table border=\"1\" class=\"dataframe\">\n",
       "  <thead>\n",
       "    <tr style=\"text-align: left;\">\n",
       "      <th>epoch</th>\n",
       "      <th>train_loss</th>\n",
       "      <th>valid_loss</th>\n",
       "      <th>accuracy</th>\n",
       "      <th>f1</th>\n",
       "      <th>AUROC</th>\n",
       "      <th>time</th>\n",
       "    </tr>\n",
       "  </thead>\n",
       "  <tbody>\n",
       "    <tr>\n",
       "      <td>0</td>\n",
       "      <td>0.117763</td>\n",
       "      <td>0.614612</td>\n",
       "      <td>0.790698</td>\n",
       "      <td>0.847458</td>\n",
       "      <td>0.854167</td>\n",
       "      <td>00:01</td>\n",
       "    </tr>\n",
       "  </tbody>\n",
       "</table>"
      ],
      "text/plain": [
       "<IPython.core.display.HTML object>"
      ]
     },
     "metadata": {},
     "output_type": "display_data"
    }
   ],
   "source": [
    "learn_c.unfreeze()\n",
    "learn_c.fit_one_cycle(1, slice(lr/10/(2.6**4),lr/10), moms=(0.8,0.7))"
   ]
  },
  {
   "cell_type": "code",
   "execution_count": 21,
   "metadata": {},
   "outputs": [],
   "source": [
    "learn_c.export('stock_sentiment_model.pkl')"
   ]
  },
  {
   "cell_type": "code",
   "execution_count": null,
   "metadata": {},
   "outputs": [],
   "source": []
  }
 ],
 "metadata": {
  "kernelspec": {
   "display_name": "Python 3",
   "language": "python",
   "name": "python3"
  },
  "language_info": {
   "codemirror_mode": {
    "name": "ipython",
    "version": 3
   },
   "file_extension": ".py",
   "mimetype": "text/x-python",
   "name": "python",
   "nbconvert_exporter": "python",
   "pygments_lexer": "ipython3",
   "version": "3.6.9"
  }
 },
 "nbformat": 4,
 "nbformat_minor": 4
}
