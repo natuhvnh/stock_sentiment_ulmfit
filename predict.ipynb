{
 "cells": [
  {
   "cell_type": "code",
   "execution_count": 1,
   "metadata": {},
   "outputs": [],
   "source": [
    "import pandas as pd\n",
    "from fastai import *\n",
    "from fastai.text import *"
   ]
  },
  {
   "cell_type": "code",
   "execution_count": 2,
   "metadata": {},
   "outputs": [
    {
     "data": {
      "text/html": [],
      "text/plain": [
       "<IPython.core.display.HTML object>"
      ]
     },
     "metadata": {},
     "output_type": "display_data"
    },
    {
     "data": {
      "text/html": [],
      "text/plain": [
       "<IPython.core.display.HTML object>"
      ]
     },
     "metadata": {},
     "output_type": "display_data"
    }
   ],
   "source": [
    "@np_func\n",
    "def f1(inp,targ): return f1_score(targ, np.argmax(inp, axis=-1))\n",
    "learn = load_learner('/home/tuna/FDM/MarketSentiment/ULMFit-sentiment', file='stock_sentiment_model.pkl')"
   ]
  },
  {
   "cell_type": "code",
   "execution_count": 20,
   "metadata": {},
   "outputs": [
    {
     "data": {
      "text/html": [
       "<div>\n",
       "<style scoped>\n",
       "    .dataframe tbody tr th:only-of-type {\n",
       "        vertical-align: middle;\n",
       "    }\n",
       "\n",
       "    .dataframe tbody tr th {\n",
       "        vertical-align: top;\n",
       "    }\n",
       "\n",
       "    .dataframe thead th {\n",
       "        text-align: right;\n",
       "    }\n",
       "</style>\n",
       "<table border=\"1\" class=\"dataframe\">\n",
       "  <thead>\n",
       "    <tr style=\"text-align: right;\">\n",
       "      <th></th>\n",
       "      <th>text</th>\n",
       "      <th>sentiment_final</th>\n",
       "    </tr>\n",
       "  </thead>\n",
       "  <tbody>\n",
       "    <tr>\n",
       "      <th>0</th>\n",
       "      <td>xin thông báo khi nào hết dịch corona thì lúc ...</td>\n",
       "      <td>P</td>\n",
       "    </tr>\n",
       "    <tr>\n",
       "      <th>1</th>\n",
       "      <td>5 mã trắng cửa bán rồi thì flc tí nữa thôi là ...</td>\n",
       "      <td>P</td>\n",
       "    </tr>\n",
       "    <tr>\n",
       "      <th>2</th>\n",
       "      <td>hihi theo a quyết đến hết mùa dịch chắc cũng p...</td>\n",
       "      <td>P</td>\n",
       "    </tr>\n",
       "    <tr>\n",
       "      <th>3</th>\n",
       "      <td>mai tây (etfs) nó xả hàng ros, mà a qc còn chơ...</td>\n",
       "      <td>N</td>\n",
       "    </tr>\n",
       "    <tr>\n",
       "      <th>4</th>\n",
       "      <td>art, hai, klf lái con chốt, a e vô đỡ thấy thư...</td>\n",
       "      <td>N</td>\n",
       "    </tr>\n",
       "    <tr>\n",
       "      <th>...</th>\n",
       "      <td>...</td>\n",
       "      <td>...</td>\n",
       "    </tr>\n",
       "    <tr>\n",
       "      <th>425</th>\n",
       "      <td>tin vĩ mô:.- bộ tc gia tăng gói hỗ trợ một số ...</td>\n",
       "      <td>P</td>\n",
       "    </tr>\n",
       "    <tr>\n",
       "      <th>426</th>\n",
       "      <td>t2 này khả năng thoát dớp nhưng về lâu dài phe...</td>\n",
       "      <td>N</td>\n",
       "    </tr>\n",
       "    <tr>\n",
       "      <th>427</th>\n",
       "      <td>giảm thêm 700 đáy chắc</td>\n",
       "      <td>N</td>\n",
       "    </tr>\n",
       "    <tr>\n",
       "      <th>428</th>\n",
       "      <td>cuối tuần ngập tràn tin xấu.cá mập, đội lái đã...</td>\n",
       "      <td>N</td>\n",
       "    </tr>\n",
       "    <tr>\n",
       "      <th>429</th>\n",
       "      <td>vni lên là lên !!!!</td>\n",
       "      <td>P</td>\n",
       "    </tr>\n",
       "  </tbody>\n",
       "</table>\n",
       "<p>430 rows × 2 columns</p>\n",
       "</div>"
      ],
      "text/plain": [
       "                                                  text sentiment_final\n",
       "0    xin thông báo khi nào hết dịch corona thì lúc ...               P\n",
       "1    5 mã trắng cửa bán rồi thì flc tí nữa thôi là ...               P\n",
       "2    hihi theo a quyết đến hết mùa dịch chắc cũng p...               P\n",
       "3    mai tây (etfs) nó xả hàng ros, mà a qc còn chơ...               N\n",
       "4    art, hai, klf lái con chốt, a e vô đỡ thấy thư...               N\n",
       "..                                                 ...             ...\n",
       "425  tin vĩ mô:.- bộ tc gia tăng gói hỗ trợ một số ...               P\n",
       "426  t2 này khả năng thoát dớp nhưng về lâu dài phe...               N\n",
       "427                             giảm thêm 700 đáy chắc               N\n",
       "428  cuối tuần ngập tràn tin xấu.cá mập, đội lái đã...               N\n",
       "429                                vni lên là lên !!!!               P\n",
       "\n",
       "[430 rows x 2 columns]"
      ]
     },
     "execution_count": 20,
     "metadata": {},
     "output_type": "execute_result"
    }
   ],
   "source": [
    "train_df = pd.read_csv('stock_data/data_clean.csv', sep='#')\n",
    "train_df.loc[pd.isna(train_df.text),'text']='NA'\n",
    "train_df['text'] = train_df['text'].str.lower()\n",
    "train_df"
   ]
  },
  {
   "cell_type": "code",
   "execution_count": 26,
   "metadata": {},
   "outputs": [
    {
     "data": {
      "text/html": [
       "<div>\n",
       "<style scoped>\n",
       "    .dataframe tbody tr th:only-of-type {\n",
       "        vertical-align: middle;\n",
       "    }\n",
       "\n",
       "    .dataframe tbody tr th {\n",
       "        vertical-align: top;\n",
       "    }\n",
       "\n",
       "    .dataframe thead th {\n",
       "        text-align: right;\n",
       "    }\n",
       "</style>\n",
       "<table border=\"1\" class=\"dataframe\">\n",
       "  <thead>\n",
       "    <tr style=\"text-align: right;\">\n",
       "      <th></th>\n",
       "      <th>text</th>\n",
       "      <th>sentiment_final</th>\n",
       "      <th>predicted</th>\n",
       "    </tr>\n",
       "  </thead>\n",
       "  <tbody>\n",
       "    <tr>\n",
       "      <th>0</th>\n",
       "      <td>xin thông báo khi nào hết dịch corona thì lúc ...</td>\n",
       "      <td>P</td>\n",
       "      <td>0.9863104820251465</td>\n",
       "    </tr>\n",
       "    <tr>\n",
       "      <th>1</th>\n",
       "      <td>5 mã trắng cửa bán rồi thì flc tí nữa thôi là ...</td>\n",
       "      <td>P</td>\n",
       "      <td>0.9590010046958923</td>\n",
       "    </tr>\n",
       "    <tr>\n",
       "      <th>2</th>\n",
       "      <td>hihi theo a quyết đến hết mùa dịch chắc cũng p...</td>\n",
       "      <td>P</td>\n",
       "      <td>0.966156005859375</td>\n",
       "    </tr>\n",
       "    <tr>\n",
       "      <th>3</th>\n",
       "      <td>mai tây (etfs) nó xả hàng ros, mà a qc còn chơ...</td>\n",
       "      <td>N</td>\n",
       "      <td>0.22635580599308014</td>\n",
       "    </tr>\n",
       "    <tr>\n",
       "      <th>4</th>\n",
       "      <td>art, hai, klf lái con chốt, a e vô đỡ thấy thư...</td>\n",
       "      <td>N</td>\n",
       "      <td>0.053009774535894394</td>\n",
       "    </tr>\n",
       "    <tr>\n",
       "      <th>...</th>\n",
       "      <td>...</td>\n",
       "      <td>...</td>\n",
       "      <td>...</td>\n",
       "    </tr>\n",
       "    <tr>\n",
       "      <th>425</th>\n",
       "      <td>tin vĩ mô:.- bộ tc gia tăng gói hỗ trợ một số ...</td>\n",
       "      <td>P</td>\n",
       "      <td>0.9115740656852722</td>\n",
       "    </tr>\n",
       "    <tr>\n",
       "      <th>426</th>\n",
       "      <td>t2 này khả năng thoát dớp nhưng về lâu dài phe...</td>\n",
       "      <td>N</td>\n",
       "      <td>0.22009089589118958</td>\n",
       "    </tr>\n",
       "    <tr>\n",
       "      <th>427</th>\n",
       "      <td>giảm thêm 700 đáy chắc</td>\n",
       "      <td>N</td>\n",
       "      <td>0.1609242558479309</td>\n",
       "    </tr>\n",
       "    <tr>\n",
       "      <th>428</th>\n",
       "      <td>cuối tuần ngập tràn tin xấu.cá mập, đội lái đã...</td>\n",
       "      <td>N</td>\n",
       "      <td>0.22686928510665894</td>\n",
       "    </tr>\n",
       "    <tr>\n",
       "      <th>429</th>\n",
       "      <td>vni lên là lên !!!!</td>\n",
       "      <td>P</td>\n",
       "      <td>0.988711953163147</td>\n",
       "    </tr>\n",
       "  </tbody>\n",
       "</table>\n",
       "<p>430 rows × 3 columns</p>\n",
       "</div>"
      ],
      "text/plain": [
       "                                                  text sentiment_final  \\\n",
       "0    xin thông báo khi nào hết dịch corona thì lúc ...               P   \n",
       "1    5 mã trắng cửa bán rồi thì flc tí nữa thôi là ...               P   \n",
       "2    hihi theo a quyết đến hết mùa dịch chắc cũng p...               P   \n",
       "3    mai tây (etfs) nó xả hàng ros, mà a qc còn chơ...               N   \n",
       "4    art, hai, klf lái con chốt, a e vô đỡ thấy thư...               N   \n",
       "..                                                 ...             ...   \n",
       "425  tin vĩ mô:.- bộ tc gia tăng gói hỗ trợ một số ...               P   \n",
       "426  t2 này khả năng thoát dớp nhưng về lâu dài phe...               N   \n",
       "427                             giảm thêm 700 đáy chắc               N   \n",
       "428  cuối tuần ngập tràn tin xấu.cá mập, đội lái đã...               N   \n",
       "429                                vni lên là lên !!!!               P   \n",
       "\n",
       "                predicted  \n",
       "0      0.9863104820251465  \n",
       "1      0.9590010046958923  \n",
       "2       0.966156005859375  \n",
       "3     0.22635580599308014  \n",
       "4    0.053009774535894394  \n",
       "..                    ...  \n",
       "425    0.9115740656852722  \n",
       "426   0.22009089589118958  \n",
       "427    0.1609242558479309  \n",
       "428   0.22686928510665894  \n",
       "429     0.988711953163147  \n",
       "\n",
       "[430 rows x 3 columns]"
      ]
     },
     "execution_count": 26,
     "metadata": {},
     "output_type": "execute_result"
    }
   ],
   "source": [
    "train_df['predicted'] = train_df['text'].apply(lambda row: str(learn.predict(row)[2][1].item()))\n",
    "train_df"
   ]
  },
  {
   "cell_type": "code",
   "execution_count": 22,
   "metadata": {},
   "outputs": [
    {
     "data": {
      "text/plain": [
       "(Category tensor(0), tensor(0), tensor([0.6618, 0.3382]))"
      ]
     },
     "execution_count": 22,
     "metadata": {},
     "output_type": "execute_result"
    }
   ],
   "source": [
    "learn.predict('thôi sợ cô vy quá xuống tàu lúc trưa rồi')"
   ]
  },
  {
   "cell_type": "code",
   "execution_count": 59,
   "metadata": {},
   "outputs": [
    {
     "data": {
      "text/plain": [
       "0.9827902317047119"
      ]
     },
     "execution_count": 59,
     "metadata": {},
     "output_type": "execute_result"
    }
   ],
   "source": [
    "text = 'VTP về đã về vùng giá khá hấp dẫn rồi, cơ hội để nhập hàng đón sóng tăng mới'\n",
    "learn.predict(text.lower())[2][1].item()"
   ]
  },
  {
   "cell_type": "code",
   "execution_count": 3,
   "metadata": {},
   "outputs": [
    {
     "data": {
      "text/plain": [
       "SequentialRNN(\n",
       "  (0): MultiBatchEncoder(\n",
       "    (module): AWD_LSTM(\n",
       "      (encoder): Embedding(11832, 400, padding_idx=1)\n",
       "      (encoder_dp): EmbeddingDropout(\n",
       "        (emb): Embedding(11832, 400, padding_idx=1)\n",
       "      )\n",
       "      (rnns): ModuleList(\n",
       "        (0): WeightDropout(\n",
       "          (module): LSTM(400, 1152, batch_first=True)\n",
       "        )\n",
       "        (1): WeightDropout(\n",
       "          (module): LSTM(1152, 1152, batch_first=True)\n",
       "        )\n",
       "        (2): WeightDropout(\n",
       "          (module): LSTM(1152, 400, batch_first=True)\n",
       "        )\n",
       "      )\n",
       "      (input_dp): RNNDropout()\n",
       "      (hidden_dps): ModuleList(\n",
       "        (0): RNNDropout()\n",
       "        (1): RNNDropout()\n",
       "        (2): RNNDropout()\n",
       "      )\n",
       "    )\n",
       "  )\n",
       "  (1): PoolingLinearClassifier(\n",
       "    (layers): Sequential(\n",
       "      (0): BatchNorm1d(1200, eps=1e-05, momentum=0.1, affine=True, track_running_stats=True)\n",
       "      (1): Dropout(p=0.2, inplace=False)\n",
       "      (2): Linear(in_features=1200, out_features=50, bias=True)\n",
       "      (3): ReLU(inplace=True)\n",
       "      (4): BatchNorm1d(50, eps=1e-05, momentum=0.1, affine=True, track_running_stats=True)\n",
       "      (5): Dropout(p=0.1, inplace=False)\n",
       "      (6): Linear(in_features=50, out_features=2, bias=True)\n",
       "    )\n",
       "  )\n",
       ")"
      ]
     },
     "execution_count": 3,
     "metadata": {},
     "output_type": "execute_result"
    }
   ],
   "source": [
    "learn.model"
   ]
  },
  {
   "cell_type": "code",
   "execution_count": null,
   "metadata": {},
   "outputs": [],
   "source": []
  }
 ],
 "metadata": {
  "kernelspec": {
   "display_name": "Python 3",
   "language": "python",
   "name": "python3"
  },
  "language_info": {
   "codemirror_mode": {
    "name": "ipython",
    "version": 3
   },
   "file_extension": ".py",
   "mimetype": "text/x-python",
   "name": "python",
   "nbconvert_exporter": "python",
   "pygments_lexer": "ipython3",
   "version": "3.6.9"
  }
 },
 "nbformat": 4,
 "nbformat_minor": 4
}
